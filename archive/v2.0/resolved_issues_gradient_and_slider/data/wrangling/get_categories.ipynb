{
 "cells": [
  {
   "cell_type": "code",
   "execution_count": 1,
   "metadata": {
    "collapsed": true
   },
   "outputs": [],
   "source": [
    "\n",
    "from metamind.api import set_api_key, ClassificationData, ClassificationModel\n",
    "import pymongo\n",
    "from pymongo import MongoClient\n",
    "import pickle\n",
    "import time"
   ]
  },
  {
   "cell_type": "code",
   "execution_count": 60,
   "metadata": {
    "collapsed": false
   },
   "outputs": [
    {
     "name": "stdout",
     "output_type": "stream",
     "text": [
      "Hello, Allan Visochek\n",
      "You are creating dataset 'text snippets', with id: 205933\n"
     ]
    }
   ],
   "source": [
    "### metamind setup\n",
    "set_api_key(\"k3U0ZYw5U7BiQWnXYCAJGzKHmSk42VSNUoVebKxPC9jlchnXzk\")\n",
    "training_data3 = ClassificationData(private=True, data_type='text', name=\"text snippets\")\n",
    "clf3 = ClassificationModel(private=True, name='SCF_category_classifier')"
   ]
  },
  {
   "cell_type": "code",
   "execution_count": 14,
   "metadata": {
    "collapsed": true
   },
   "outputs": [],
   "source": [
    "### mongodb setup\n",
    "client = MongoClient()\n",
    "db = client.nh1"
   ]
  },
  {
   "cell_type": "code",
   "execution_count": 66,
   "metadata": {
    "collapsed": false
   },
   "outputs": [],
   "source": [
    "### extract samples\n",
    "with open('/home/allan/Desktop/new_haven_seeclickfix_visualization/data/wrangling/training_samplesv2','r') as f: #load the samples...\n",
    "    categorization = pickle.load(f)"
   ]
  },
  {
   "cell_type": "code",
   "execution_count": 71,
   "metadata": {
    "collapsed": false,
    "scrolled": true
   },
   "outputs": [],
   "source": [
    "training_samples=[]\n",
    "for category in categorization.values():\n",
    "    label=category[\"name\"]\n",
    "    for sample in category['samples']:\n",
    "        training_samples.append((sample,label))"
   ]
  },
  {
   "cell_type": "code",
   "execution_count": 72,
   "metadata": {
    "collapsed": false
   },
   "outputs": [
    {
     "name": "stdout",
     "output_type": "stream",
     "text": [
      "Starting data upload...\n",
      "Finished uploading 150 of 649 samples...\n",
      "Finished uploading 300 of 649 samples...\n",
      "Finished uploading 450 of 649 samples...\n",
      "Finished uploading 600 of 649 samples...\n",
      "Finished uploading 649 of 649 samples...\n"
     ]
    }
   ],
   "source": [
    "training_data3.add_samples(training_samples,input_type='text') #add them to the training data."
   ]
  },
  {
   "cell_type": "code",
   "execution_count": 75,
   "metadata": {
    "collapsed": false
   },
   "outputs": [
    {
     "name": "stdout",
     "output_type": "stream",
     "text": [
      "Your MetaMind text model is now training on the server!\n",
      "Your model is done training!\n",
      "Model name: SCF_category_classifier\n",
      "Model id: 32927\n"
     ]
    }
   ],
   "source": [
    "clf3.fit(training_data3) # train the classifier...\n"
   ]
  },
  {
   "cell_type": "code",
   "execution_count": 76,
   "metadata": {
    "collapsed": false
   },
   "outputs": [
    {
     "ename": "SyntaxError",
     "evalue": "invalid syntax (<ipython-input-76-e496547cd5a3>, line 5)",
     "output_type": "error",
     "traceback": [
      "\u001b[1;36m  File \u001b[1;32m\"<ipython-input-76-e496547cd5a3>\"\u001b[1;36m, line \u001b[1;32m5\u001b[0m\n\u001b[1;33m    cleaned_issues cleaned_issue\u001b[0m\n\u001b[1;37m                               ^\u001b[0m\n\u001b[1;31mSyntaxError\u001b[0m\u001b[1;31m:\u001b[0m invalid syntax\n"
     ]
    }
   ],
   "source": [
    "## put all cleaning operations under a single function\n",
    "def clean(issue,clf=clf):\n",
    "    cleaned_issue = issue\n",
    "    cleaned_issue['category'] = clf.predict(issue[\"summary\"]+' '+issue['description'],input_type='text')\n",
    "    cleaned_issues cleaned_issue"
   ]
  },
  {
   "cell_type": "code",
   "execution_count": 112,
   "metadata": {
    "collapsed": false
   },
   "outputs": [
    {
     "name": "stdout",
     "output_type": "stream",
     "text": [
      "[{u'user_value': u'There will a massive earthquake on teusday', u'probability': 0.14856994491637757, u'label': u'Tree Trimming, Tree Removal & Stumps'}]\n"
     ]
    }
   ],
   "source": [
    "print clf3.predict(\"There will a massive earthquake on teusday\",\"text\")"
   ]
  },
  {
   "cell_type": "code",
   "execution_count": 115,
   "metadata": {
    "collapsed": false
   },
   "outputs": [
    {
     "data": {
      "text/plain": [
       "{'name': 'Motorcycles Being Super Annoying',\n",
       " 'samples': [u'ATV Ripping Up Grass of Edgewood Mall At 4:40pm on Wednesday, April 8, there is currently a rider of a four-wheeled blue ATV who is doing repeated donuts, ripping up the grass in the mall on Edgewood Avenue. \\r\\n\\r\\nMy son believes this is the same ATV that we saw riding in Edgewood Park (even going into the Skate Park) on Sunday afternoon. The driver had a young child on his lap as they raced through the park.',\n",
       "  u'Traffic/Road Safety There is a lime green Ford Mustang with modified muffler/exhaust system that has been racing around Westville for several weeks now.  The driver has been racing up and down Central Avenue at all hours of the day and into the night.\\n\\nThe driver consistently speeds through Westville at 40+ mph, ignores stop signs and makes unnecessary noise with the modified exhaust muffler system.  The dangerous driving is a threat to pedestrians and other drivers as well as being a significant quality of life disruption.  \\n\\nI usually see the car on Central Avenue, but I have observed the car on Edgewood Avenue and on Whalley Avenue as well. \\n\\nGiven the speed and unpredictability, I have not been able to get a license plate number. Any help from New Haven police, or other Westville residents would be greatly appreciated. ',\n",
       "  u'Motorcycle noise levels Motorcycles accelerating onto/exiting from the I-91 ramp have noise levels well in excess of limits required by state law.',\n",
       "  u'Curb damage Resident reports that there is no curbing in front of this address. When it rains, water floods onto the property causing damage. ',\n",
       "  u'Multiple quads and dirtbikes flying around this are right now Police were called. Please take photos and add them here if you can get photos of the riders. ',\n",
       "  u'Insufficiently muffled vehicles  We were pleased to read in the Register  that the NHPD is taking this quality of life issue seriously. We hope they will keep an eye (or perhaps ear) on Townsend Ave, where we continue to have under-muffled motorcycles, dirtbikes, and ATVs round the clock. ',\n",
       "  u'Policing Issue There are at least 3 scooters or small motorcycles riding up and down the closed portion of English Drive.  Runners, walkers and cyclists do not expect motorized vehicles, and they are a danger to those using the road legally (in particular children whose parents are not expecting motorized traffic).  ',\n",
       "  u\"Policing Issue The illegal bikes are officially back! I'm sincerely fed up with the lack of police presence on our street. Nice to know that Morris Cove is once again forgotten about. Two male bikers on dirt bikes just screamed past my house, makeshift face masks in place. We know the police are aware of it. Get better at corralling them or the neighborhood will find a way to do it for you.\",\n",
       "  u'Traffic/Road Safety Last night, Friday, the 25th;  at 9:30-10:00PM, there was a large ATV being driven around Florence to Townsend, to Parker, to Mansion and then driving into the large driveway between the two houses on Florence, at the end of Mansion.  They made many of these passes at a high rate of speed, and a great deal of noise..  The vehicle is housed at one of the two residences.  I called and reported it, but never saw a police car come by.  Please gat a handle on this right away']}"
      ]
     },
     "execution_count": 115,
     "metadata": {},
     "output_type": "execute_result"
    }
   ],
   "source": [
    "categorization[11]"
   ]
  }
 ],
 "metadata": {
  "kernelspec": {
   "display_name": "Python 2",
   "language": "python",
   "name": "python2"
  },
  "language_info": {
   "codemirror_mode": {
    "name": "ipython",
    "version": 2
   },
   "file_extension": ".py",
   "mimetype": "text/x-python",
   "name": "python",
   "nbconvert_exporter": "python",
   "pygments_lexer": "ipython2",
   "version": "2.7.6"
  }
 },
 "nbformat": 4,
 "nbformat_minor": 0
}
