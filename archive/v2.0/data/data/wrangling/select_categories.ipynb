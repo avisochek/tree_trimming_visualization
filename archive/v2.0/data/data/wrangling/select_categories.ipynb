{
 "cells": [
  {
   "cell_type": "code",
   "execution_count": 26,
   "metadata": {
    "collapsed": true
   },
   "outputs": [],
   "source": [
    "import random\n",
    "import pymongo\n",
    "from pymongo import MongoClient\n",
    "from IPython.display import clear_output"
   ]
  },
  {
   "cell_type": "code",
   "execution_count": 4,
   "metadata": {
    "collapsed": false
   },
   "outputs": [],
   "source": [
    "client = MongoClient()\n",
    "db = client.nh1"
   ]
  },
  {
   "cell_type": "code",
   "execution_count": 15,
   "metadata": {
    "collapsed": false
   },
   "outputs": [],
   "source": [
    "descriptions=[]\n",
    "for issue in db.issues.find():\n",
    "    descriptions.append(issue['summary']+' '+issue['description'])"
   ]
  },
  {
   "cell_type": "code",
   "execution_count": 20,
   "metadata": {
    "collapsed": false
   },
   "outputs": [
    {
     "data": {
      "application/javascript": [
       "IPython.OutputArea.auto_scroll_threshold = 9999;"
      ],
      "text/plain": [
       "<IPython.core.display.Javascript object>"
      ]
     },
     "metadata": {},
     "output_type": "display_data"
    }
   ],
   "source": [
    "%%javascript\n",
    "IPython.OutputArea.auto_scroll_threshold = 9999;"
   ]
  },
  {
   "cell_type": "code",
   "execution_count": 44,
   "metadata": {
    "collapsed": false
   },
   "outputs": [
    {
     "name": "stdout",
     "output_type": "stream",
     "text": [
      "Incredible opportunity to connect the Mill River Trail between Fair Haven and East Rock Park Along the East bank of the Mill River between State Street and Humphrey Street along the Western property line of the old CT Transit site lies a great trail opportunity with little upfront cost to tax-payers. \n",
      "\n",
      "Readying this connection for a trail will pave the way for recreational access between East Rock Park and Grand Avenue.\n",
      "\n",
      "We have spoken with City Plan and City Engineering and it appears that this is a reasonable request and use for the river shores. \n",
      "\n",
      "We have also spoken to State Representative Roland Lemar who supports the project and believes that with interest from resident's demonstrated we can get a trail funded here. \n",
      "\n",
      "If you would use this area recreationally or would like to see this trail created please vote up this issue and share it with neighbors. As organizers we would like to see that there is real interest(50 or more votes might convince us :) from the community before we organize to push the issue to the State. \n",
      "\n",
      "If you have thoughts in support or opposition please add them in the comments!\n",
      "\n",
      "Let's make the Mill River something New Haven can be proud of again.   \n",
      "\n",
      "done --> finish\n",
      "new  --> new category\n",
      "0    -->  Pets & Animals   ( 11 )\n",
      "1    -->  Tree Trimming, Tree Removal & Stumps   ( 115 )\n",
      "2    -->  Potholes, Sinkholes, Manholes & Other Street Damage and Road Obstructions   ( 80 )\n",
      "3    -->  Pedestrian Issues, Pedestrian Safety and Sidewalk Damage   ( 71 )\n",
      "4    -->  Street Lamps   ( 45 )\n",
      "5    -->  Broken Wires & Other Electricity Related Issues   ( 8 )\n",
      "6    -->  Snow Removal and Snow Related Issues   ( 48 )\n",
      "7    -->  Policing Issue   ( 15 )\n",
      "8    -->  Notifications & Announcements   ( 18 )\n",
      "9    -->  General Bitches   ( 11 )\n",
      "10    -->  Illegal Dumping & Garbage Related   ( 70 )\n",
      "11    -->  Motorcycles Being Super Annoying   ( 9 )\n",
      "12    -->  General Public Property Damage and Repair   ( 10 )\n",
      "13    -->  Other/Unclear   ( 19 )\n",
      "14    -->  Traffic & Road Safety   ( 45 )\n",
      "15    -->  Messiness & Eyesores   ( 42 )\n",
      "16    -->  Storm Drains, Sewers & Water Related   ( 16 )\n",
      "17    -->  Bikers and Haters   ( 11 )\n",
      "18    -->  Public Transit   ( 3 )\n",
      "19    -->  Oil,Gas,& other Utilities   ( 2 )\n"
     ]
    },
    {
     "ename": "KeyboardInterrupt",
     "evalue": "",
     "output_type": "error",
     "traceback": [
      "\u001b[1;31m---------------------------------------------------------------------------\u001b[0m",
      "\u001b[1;31mKeyboardInterrupt\u001b[0m                         Traceback (most recent call last)",
      "\u001b[1;32m<ipython-input-44-eefc42367576>\u001b[0m in \u001b[0;36m<module>\u001b[1;34m()\u001b[0m\n\u001b[0;32m     11\u001b[0m     \u001b[1;32mfor\u001b[0m \u001b[0mkey\u001b[0m \u001b[1;32min\u001b[0m \u001b[0msorted\u001b[0m\u001b[1;33m(\u001b[0m\u001b[0mcategorization\u001b[0m\u001b[1;33m.\u001b[0m\u001b[0mkeys\u001b[0m\u001b[1;33m(\u001b[0m\u001b[1;33m)\u001b[0m\u001b[1;33m)\u001b[0m\u001b[1;33m:\u001b[0m\u001b[1;33m\u001b[0m\u001b[0m\n\u001b[0;32m     12\u001b[0m         \u001b[1;32mprint\u001b[0m \u001b[0mkey\u001b[0m\u001b[1;33m,\u001b[0m\u001b[1;34m'   --> '\u001b[0m\u001b[1;33m,\u001b[0m \u001b[0mcategorization\u001b[0m\u001b[1;33m[\u001b[0m\u001b[0mkey\u001b[0m\u001b[1;33m]\u001b[0m\u001b[1;33m[\u001b[0m\u001b[1;34m'name'\u001b[0m\u001b[1;33m]\u001b[0m\u001b[1;33m,\u001b[0m\u001b[1;34m'  ('\u001b[0m\u001b[1;33m,\u001b[0m\u001b[0mlen\u001b[0m\u001b[1;33m(\u001b[0m\u001b[0mcategorization\u001b[0m\u001b[1;33m[\u001b[0m\u001b[0mkey\u001b[0m\u001b[1;33m]\u001b[0m\u001b[1;33m[\u001b[0m\u001b[1;34m'samples'\u001b[0m\u001b[1;33m]\u001b[0m\u001b[1;33m)\u001b[0m\u001b[1;33m,\u001b[0m\u001b[1;34m')'\u001b[0m\u001b[1;33m\u001b[0m\u001b[0m\n\u001b[1;32m---> 13\u001b[1;33m     \u001b[0mselection\u001b[0m \u001b[1;33m=\u001b[0m \u001b[0mraw_input\u001b[0m\u001b[1;33m(\u001b[0m\u001b[1;34m'Choose One:  '\u001b[0m\u001b[1;33m)\u001b[0m\u001b[1;33m\u001b[0m\u001b[0m\n\u001b[0m\u001b[0;32m     14\u001b[0m     \u001b[1;32mif\u001b[0m \u001b[0mselection\u001b[0m \u001b[1;33m==\u001b[0m \u001b[1;34m'done'\u001b[0m\u001b[1;33m:\u001b[0m\u001b[1;33m\u001b[0m\u001b[0m\n\u001b[0;32m     15\u001b[0m         \u001b[1;32mbreak\u001b[0m\u001b[1;33m;\u001b[0m\u001b[1;33m\u001b[0m\u001b[0m\n",
      "\u001b[1;32m/usr/local/lib/python2.7/dist-packages/IPython/kernel/zmq/kernelbase.pyc\u001b[0m in \u001b[0;36mraw_input\u001b[1;34m(self, prompt)\u001b[0m\n\u001b[0;32m    649\u001b[0m             \u001b[0mself\u001b[0m\u001b[1;33m.\u001b[0m\u001b[0m_parent_ident\u001b[0m\u001b[1;33m,\u001b[0m\u001b[1;33m\u001b[0m\u001b[0m\n\u001b[0;32m    650\u001b[0m             \u001b[0mself\u001b[0m\u001b[1;33m.\u001b[0m\u001b[0m_parent_header\u001b[0m\u001b[1;33m,\u001b[0m\u001b[1;33m\u001b[0m\u001b[0m\n\u001b[1;32m--> 651\u001b[1;33m             \u001b[0mpassword\u001b[0m\u001b[1;33m=\u001b[0m\u001b[0mFalse\u001b[0m\u001b[1;33m,\u001b[0m\u001b[1;33m\u001b[0m\u001b[0m\n\u001b[0m\u001b[0;32m    652\u001b[0m         )\n\u001b[0;32m    653\u001b[0m \u001b[1;33m\u001b[0m\u001b[0m\n",
      "\u001b[1;32m/usr/local/lib/python2.7/dist-packages/IPython/kernel/zmq/kernelbase.pyc\u001b[0m in \u001b[0;36m_input_request\u001b[1;34m(self, prompt, ident, parent, password)\u001b[0m\n\u001b[0;32m    679\u001b[0m             \u001b[1;32mexcept\u001b[0m \u001b[0mKeyboardInterrupt\u001b[0m\u001b[1;33m:\u001b[0m\u001b[1;33m\u001b[0m\u001b[0m\n\u001b[0;32m    680\u001b[0m                 \u001b[1;31m# re-raise KeyboardInterrupt, to truncate traceback\u001b[0m\u001b[1;33m\u001b[0m\u001b[1;33m\u001b[0m\u001b[0m\n\u001b[1;32m--> 681\u001b[1;33m                 \u001b[1;32mraise\u001b[0m \u001b[0mKeyboardInterrupt\u001b[0m\u001b[1;33m\u001b[0m\u001b[0m\n\u001b[0m\u001b[0;32m    682\u001b[0m             \u001b[1;32melse\u001b[0m\u001b[1;33m:\u001b[0m\u001b[1;33m\u001b[0m\u001b[0m\n\u001b[0;32m    683\u001b[0m                 \u001b[1;32mbreak\u001b[0m\u001b[1;33m\u001b[0m\u001b[0m\n",
      "\u001b[1;31mKeyboardInterrupt\u001b[0m: "
     ]
    }
   ],
   "source": [
    "# from IPython.display import clear_output\n",
    "done=False\n",
    "new_thing=True\n",
    "while done==False:\n",
    "    clear_output()\n",
    "    if new_thing:\n",
    "        random.shuffle(index)\n",
    "        current=descriptions[index.pop()]\n",
    "    print current,'\\n'\n",
    "    print \"done --> finish\\nnew  --> new category\"\n",
    "    for key in sorted(categorization.keys()):\n",
    "        print key,'   --> ', categorization[key]['name'],'  (',len(categorization[key]['samples']),')'\n",
    "    selection = raw_input('Choose One:  ')\n",
    "    if selection == 'done':\n",
    "        break;\n",
    "    elif selection == 'new':\n",
    "        key = len(categorization)\n",
    "        name = raw_input(\"Name of Category?:  \")\n",
    "        categorization[key] = {'samples':[]}\n",
    "        categorization[key]['name'] = name\n",
    "        categorization[key]['samples'].append(current)\n",
    "        new_thing = True\n",
    "        print \"Success...\\n\\n\\nNEW THING...\"\n",
    "    else:\n",
    "        try:\n",
    "            key = int(selection)\n",
    "            if key not in categorization.keys():\n",
    "                print \"thats not a thing!\\nTry Again...\\n\\n\\n\"\n",
    "                new_thing = False\n",
    "            else:\n",
    "                categorization[key]['samples'].append(current)\n",
    "                new_thing=True\n",
    "                print \"Success...\\n\\n\\nNEW THING...\"\n",
    "        except:\n",
    "            print \"thats not a thing!\\nTry Again...\\n\\n\\n\"\n",
    "            new_thing = False"
   ]
  },
  {
   "cell_type": "code",
   "execution_count": 40,
   "metadata": {
    "collapsed": false
   },
   "outputs": [
    {
     "data": {
      "text/plain": [
       "96"
      ]
     },
     "execution_count": 40,
     "metadata": {},
     "output_type": "execute_result"
    }
   ],
   "source": [
    "len(categorization[1]['samples'])"
   ]
  },
  {
   "cell_type": "code",
   "execution_count": 45,
   "metadata": {
    "collapsed": false
   },
   "outputs": [],
   "source": [
    "import pickle\n",
    "with open(\"training_samplesv2\",'w') as f:\n",
    "    pickle.dump(categorization,f)\n",
    "with open(\"training_indexv2\",'w') as f:\n",
    "    pickle.dump(index,f)"
   ]
  }
 ],
 "metadata": {
  "kernelspec": {
   "display_name": "Python 2",
   "language": "python",
   "name": "python2"
  },
  "language_info": {
   "codemirror_mode": {
    "name": "ipython",
    "version": 2
   },
   "file_extension": ".py",
   "mimetype": "text/x-python",
   "name": "python",
   "nbconvert_exporter": "python",
   "pygments_lexer": "ipython2",
   "version": "2.7.6"
  }
 },
 "nbformat": 4,
 "nbformat_minor": 0
}
